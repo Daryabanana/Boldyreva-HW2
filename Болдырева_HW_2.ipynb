{
  "nbformat": 4,
  "nbformat_minor": 0,
  "metadata": {
    "kernelspec": {
      "display_name": "Python 3 (ipykernel)",
      "language": "python",
      "name": "python3"
    },
    "language_info": {
      "codemirror_mode": {
        "name": "ipython",
        "version": 3
      },
      "file_extension": ".py",
      "mimetype": "text/x-python",
      "name": "python",
      "nbconvert_exporter": "python",
      "pygments_lexer": "ipython3",
      "version": "3.8.6"
    },
    "colab": {
      "name": "Болдырева HW-2",
      "provenance": [],
      "collapsed_sections": []
    }
  },
  "cells": [
    {
      "cell_type": "markdown",
      "metadata": {
        "id": "A3posBit_v77"
      },
      "source": [
        "# Домашнее задание №2 ( балла)\n",
        "\n",
        "## дедлайн 7 октября 18:10\n",
        "### 10 или 9 можно получить, если сдать домашнее задание полностью до 3 октября 23:59, а также верно выполнить задания со звездочками\n",
        "\n",
        "\n",
        "Цель:\n",
        "\n",
        "Отработать навыки работы с основными типами данных в Python.\n",
        "Отработать навыки работы с основными структурами данных в Python."
      ]
    },
    {
      "cell_type": "markdown",
      "metadata": {
        "id": "V3_p-c6m_v78"
      },
      "source": [
        "**NB!** Задания необходимо выполнять таким образом, что переменную/-ые можно было заменить на схожее слово/число/текст/список/и т.д., при этом задание все равно выполнялось бы верно."
      ]
    },
    {
      "cell_type": "markdown",
      "metadata": {
        "id": "5IHy3DUz_v8G"
      },
      "source": [
        "### Часть 1. Списки (16 баллов)"
      ]
    },
    {
      "cell_type": "markdown",
      "metadata": {
        "id": "LF37caBG_v8G"
      },
      "source": [
        "1. (2 балла) Пользователь вводит несколько чисел через запятую. Сделайте из этих чисел список, подсчитайте сумму элементов, среднее, максимальное и минимальное значение. Все результаты подсчетов выведите на экран"
      ]
    },
    {
      "cell_type": "code",
      "metadata": {
        "id": "-LK-7l2V_v8G",
        "colab": {
          "base_uri": "https://localhost:8080/"
        },
        "outputId": "8c8698f8-7ba3-4b50-cbfa-7bd03581c2be"
      },
      "source": [
        "numbers = input(\"введите числа через запятую: \")\n",
        "numbers_ = [int(i) for i in numbers.split(\", \")]\n",
        "\n",
        "print('Сумма: ', sum(numbers_))\n",
        "print('Минимальное: ', min(numbers_))\n",
        "print('Максимальное: ', max(numbers_))\n",
        "print('Среднее: ', sum(numbers_) / len(numbers_))\n",
        "\n"
      ],
      "execution_count": 22,
      "outputs": [
        {
          "output_type": "stream",
          "name": "stdout",
          "text": [
            "введите числа через запятую: 9, 0, 5\n",
            "Сумма:  14\n",
            "Минимальное:  0\n",
            "Максимальное:  9\n",
            "Среднее:  4.666666666666667\n"
          ]
        }
      ]
    },
    {
      "cell_type": "markdown",
      "metadata": {
        "id": "KLUTNmQk_v8G"
      },
      "source": [
        "2. (2 балла) Даны два списка. \"Слить\" их через один (чередуя элементы то одного, то другого списка).\n",
        "\n",
        "`f = [1,2,3]`\n",
        "\n",
        "`s = ['1','2','3']`\n",
        "\n",
        "Ожидаемый результат:\n",
        "\n",
        "`[1, '1', 2, '2', 3, '3']`\n"
      ]
    },
    {
      "cell_type": "markdown",
      "metadata": {
        "id": "1be1P1k5_v8H"
      },
      "source": [
        "* _Список может быть любого размера, а ваш код все равно должен работать._\n",
        "* _можно заработать + 2 балла к заданию, если сделать его в одну строку_"
      ]
    },
    {
      "cell_type": "code",
      "metadata": {
        "id": "y1VqZ_7P_v8H",
        "colab": {
          "base_uri": "https://localhost:8080/"
        },
        "outputId": "1e57efee-3d13-4dc1-d16e-4940feec2016"
      },
      "source": [
        "f = [1,2,3,4]\n",
        "s = ['1','2','3','4']\n",
        "\n",
        "numbers = []\n",
        "for i in range(len(f)):\n",
        "    numbers.append(f[i])\n",
        "    numbers.append(s[i])\n",
        "\n",
        "print(numbers)\n",
        "  \n"
      ],
      "execution_count": null,
      "outputs": [
        {
          "output_type": "stream",
          "name": "stdout",
          "text": [
            "[1, '1', 2, '2', 3, '3', 4, '4']\n"
          ]
        }
      ]
    },
    {
      "cell_type": "markdown",
      "metadata": {
        "id": "wAsDtE_0_v8H"
      },
      "source": [
        "3. (4 балла) Создайте следующий лист: \n",
        "\n",
        "`months = [\n",
        "'Декабрь', 'Январь', 'Февраль',\n",
        "'Март', 'Апрель', 'Май',\n",
        "'Июнь', 'Июль', 'Август',\n",
        "'Сентябрь', 'Октябрь', 'Ноябрь'\n",
        "]`. \n",
        "\n",
        "Ваша задача получить из него:\n",
        "    - все зимние месяцы\n",
        "    - все летние месяцы\n",
        "    - каждый второй месяц года начиная с Января\n",
        "    - первые месяцы каждого сезона (4),\n",
        "\n",
        "используя `slice`."
      ]
    },
    {
      "cell_type": "code",
      "metadata": {
        "id": "ol-aAzBb_v8H",
        "colab": {
          "base_uri": "https://localhost:8080/"
        },
        "outputId": "eff011e1-4a55-4182-f8f7-11c5154fb8e4"
      },
      "source": [
        "months = [ 'Декабрь', 'Январь', 'Февраль', 'Март', 'Апрель', 'Май', 'Июнь', 'Июль', 'Август', 'Сентябрь', 'Октябрь', 'Ноябрь' ]\n",
        "winter = months[0:3]\n",
        "print(winter)\n",
        "\n",
        "summer = months[6:9]\n",
        "print(summer)\n",
        "\n",
        "x = months[1::2]\n",
        "print(x)\n",
        "\n",
        "y = months[0::3]\n",
        "print(y)"
      ],
      "execution_count": null,
      "outputs": [
        {
          "output_type": "stream",
          "name": "stdout",
          "text": [
            "['Декабрь', 'Январь', 'Февраль']\n",
            "['Июнь', 'Июль', 'Август']\n",
            "['Январь', 'Март', 'Май', 'Июль', 'Сентябрь', 'Ноябрь']\n",
            "['Декабрь', 'Март', 'Июнь', 'Сентябрь']\n"
          ]
        }
      ]
    },
    {
      "cell_type": "markdown",
      "metadata": {
        "id": "dyFDN1th_v8H"
      },
      "source": [
        "4. (3 балла) Создайте list \n",
        "\n",
        "`weekdays = ['Понедельник', 2, 'Cреда', 'Четверг', 5]`\n",
        "\n",
        "- Исправьте числа 2 и 5 на Вторник и Пятницу соответственно\n",
        "- Добавьте недостающие дни в конец списка\n",
        "- Посчитайте длину итогового листа"
      ]
    },
    {
      "cell_type": "code",
      "metadata": {
        "id": "mpUCmwn4_v8H",
        "colab": {
          "base_uri": "https://localhost:8080/"
        },
        "outputId": "54832f99-a938-4039-f8ae-84bd39a5c8da"
      },
      "source": [
        "weekdays = ['Понедельник', 2, 'Cреда', 'Четверг', 5]\n",
        "weekdays[1] = 'Вторник'\n",
        "weekdays[-1] = 'Пятницa'\n",
        "print(weekdays)\n",
        "\n",
        "weekdays.append('Суббота')\n",
        "weekdays.append('Воскресенье')\n",
        "print(weekdays)\n",
        "\n",
        "print(len(weekdays))"
      ],
      "execution_count": null,
      "outputs": [
        {
          "output_type": "stream",
          "name": "stdout",
          "text": [
            "['Понедельник', 'Вторник', 'Cреда', 'Четверг', 'Пятницa']\n",
            "['Понедельник', 'Вторник', 'Cреда', 'Четверг', 'Пятницa', 'Суббота', 'Воскресенье']\n",
            "7\n"
          ]
        }
      ]
    },
    {
      "cell_type": "markdown",
      "metadata": {
        "id": "sX7Pyq8d_v8H"
      },
      "source": [
        "5. (3 балла) Создайте строку (str) `'йтцыу фочтмлзирчйнбою асапырйафвялгяшещшоьрскяу!й'`\n",
        "\n",
        "    - Превратите ее в лист символов\n",
        "    - Расшифруйте закодированное в ней сообщение, выбрав из всех символов только символы с **нечетным** индексом\n",
        "    - Превратите полученный лист обратно в строку и напечатайте результат\n",
        "\n",
        "**Hint** вам понадобится функция `.join()`"
      ]
    },
    {
      "cell_type": "code",
      "metadata": {
        "id": "fJozshnzC69S",
        "colab": {
          "base_uri": "https://localhost:8080/"
        },
        "outputId": "546e8a98-4b88-4e68-bd95-a8687808afed"
      },
      "source": [
        "s = 'йтцыу фочтмлзирчйнбою асапырйафвялгяшещшоьрскяу!й'\n",
        "list(s)\n",
        "b = s[::2]\n",
        "s1 = ''.join(b)\n",
        "print(s1)\n"
      ],
      "execution_count": 20,
      "outputs": [
        {
          "output_type": "stream",
          "name": "stdout",
          "text": [
            "йцуфчмзрйбюааыйфягшщоркуй\n"
          ]
        }
      ]
    },
    {
      "cell_type": "markdown",
      "metadata": {
        "id": "hI1vaX97DLgo"
      },
      "source": [
        "6. (2 балла) Дан список (придумайте любой и положите в переменную `my_list`, `input()` использовать не нужно). Проверить, содержит ли данный список повторяющиеся элементы, удалить повторяющиеся элементы (без использования `dict` и `set`)"
      ]
    },
    {
      "cell_type": "code",
      "metadata": {
        "id": "c4_1mkhp_v8H",
        "colab": {
          "base_uri": "https://localhost:8080/"
        },
        "outputId": "ba4f40e6-5aac-4f9f-fcae-b86965225265"
      },
      "source": [
        "list = ['cat', 'dog', 'cat', 'mama', 'bat']\n",
        "\n",
        "status = True\n",
        "for item in list:\n",
        "    if list.count(item) > 1:\n",
        "        status = False\n",
        "if status == True:\n",
        "    print(\"No duplicates\")\n",
        "else:\n",
        "    print(\"Duplicates found\")\n",
        "\n"
      ],
      "execution_count": null,
      "outputs": [
        {
          "output_type": "stream",
          "name": "stdout",
          "text": [
            "Duplicates found\n"
          ]
        }
      ]
    },
    {
      "cell_type": "markdown",
      "metadata": {
        "id": "nSJWKkvq_v8I"
      },
      "source": [
        "### Часть 2. Кортежи (3 балла)"
      ]
    },
    {
      "cell_type": "markdown",
      "metadata": {
        "id": "hFX4GTq1_v8I"
      },
      "source": [
        "29. (1 балл) Создать кортеж из одного элемента."
      ]
    },
    {
      "cell_type": "code",
      "metadata": {
        "id": "_qcdWtzz_v8I",
        "colab": {
          "base_uri": "https://localhost:8080/"
        },
        "outputId": "75958fa9-0192-4952-844b-42c8643a78bb"
      },
      "source": [
        "a = 'b', \n",
        "a"
      ],
      "execution_count": null,
      "outputs": [
        {
          "output_type": "execute_result",
          "data": {
            "text/plain": [
              "('b',)"
            ]
          },
          "metadata": {},
          "execution_count": 16
        }
      ]
    },
    {
      "cell_type": "markdown",
      "metadata": {
        "id": "WFrsJtZr_v8I"
      },
      "source": [
        "30. (1 балл) Создайте кортеж из списка, напечатайте его.\n",
        "\n",
        "`months = [\n",
        "'Январь', 'Февраль',\n",
        "'Март', 'Апрель', 'Май',\n",
        "'Июнь', 'Июль', 'Август',\n",
        "'Сентябрь', 'Октябрь', 'Ноябрь'\n",
        "]`"
      ]
    },
    {
      "cell_type": "code",
      "metadata": {
        "id": "1zL4nMN4_v8I",
        "colab": {
          "base_uri": "https://localhost:8080/"
        },
        "outputId": "af4ab140-4e50-4bf4-c62f-e0c9e8dac63b"
      },
      "source": [
        "months = [ 'Январь', 'Февраль', 'Март', 'Апрель', 'Май', 'Июнь', 'Июль', 'Август', 'Сентябрь', 'Октябрь', 'Ноябрь' ]\n",
        "tuple(months)\n"
      ],
      "execution_count": null,
      "outputs": [
        {
          "output_type": "execute_result",
          "data": {
            "text/plain": [
              "('Январь',\n",
              " 'Февраль',\n",
              " 'Март',\n",
              " 'Апрель',\n",
              " 'Май',\n",
              " 'Июнь',\n",
              " 'Июль',\n",
              " 'Август',\n",
              " 'Сентябрь',\n",
              " 'Октябрь',\n",
              " 'Ноябрь')"
            ]
          },
          "metadata": {},
          "execution_count": 21
        }
      ]
    },
    {
      "cell_type": "markdown",
      "metadata": {
        "id": "iGn7e0Ow_v8I"
      },
      "source": [
        "31. (1 балл) Добавьте недостающий месяц (на выходе ожидается кортеж)"
      ]
    },
    {
      "cell_type": "code",
      "metadata": {
        "id": "ZdD0BuYU_v8I",
        "colab": {
          "base_uri": "https://localhost:8080/"
        },
        "outputId": "b087e2eb-b076-4ddd-fd07-1d3fb6091d2c"
      },
      "source": [
        "months = [ 'Январь', 'Февраль', 'Март', 'Апрель', 'Май', 'Июнь', 'Июль', 'Август', 'Сентябрь', 'Октябрь', 'Ноябрь' ]\n",
        "tuple(months)\n",
        "x = ('декабрь', )\n",
        "new = tuple(months) + x\n",
        "print(new)"
      ],
      "execution_count": null,
      "outputs": [
        {
          "output_type": "stream",
          "name": "stdout",
          "text": [
            "('Январь', 'Февраль', 'Март', 'Апрель', 'Май', 'Июнь', 'Июль', 'Август', 'Сентябрь', 'Октябрь', 'Ноябрь', 'декабрь')\n"
          ]
        }
      ]
    },
    {
      "cell_type": "markdown",
      "metadata": {
        "id": "netCKvWK_v8I"
      },
      "source": [
        "### Часть 3. Сеты (4 балла)"
      ]
    },
    {
      "cell_type": "markdown",
      "metadata": {
        "id": "vmpZWO8Z_v8I"
      },
      "source": [
        "32. (1 балл) Посчитать, сколько различных букв в слове 'превысокомногорассмотрительствующий'"
      ]
    },
    {
      "cell_type": "markdown",
      "metadata": {
        "id": "o0wn7C-faUAc"
      },
      "source": [
        ""
      ]
    },
    {
      "cell_type": "code",
      "metadata": {
        "id": "IUBHgO78_v8J",
        "colab": {
          "base_uri": "https://localhost:8080/"
        },
        "outputId": "d8ed4f94-3222-4cf3-9f71-7036cbb7fe0c"
      },
      "source": [
        "len(set(list( 'превысокомногорассмотрительствующий')))"
      ],
      "execution_count": 19,
      "outputs": [
        {
          "output_type": "execute_result",
          "data": {
            "text/plain": [
              "20"
            ]
          },
          "metadata": {},
          "execution_count": 19
        }
      ]
    },
    {
      "cell_type": "markdown",
      "metadata": {
        "id": "EtPaMLQO_v8J"
      },
      "source": [
        "33. (1 балл) Какие различные буквы имеют слова \"превысокомногорассмотрительствующий\" и \"водогрязеторфопарафинолечение\"?"
      ]
    },
    {
      "cell_type": "code",
      "metadata": {
        "id": "dwIdysLu_v8J",
        "colab": {
          "base_uri": "https://localhost:8080/"
        },
        "outputId": "67fd2e39-91a0-4dcc-a1eb-5a07705b982f"
      },
      "source": [
        "set(list( 'превысокомногорассмотрительствующий' + 'водогрязеторфопарафинолечение'))"
      ],
      "execution_count": 18,
      "outputs": [
        {
          "output_type": "execute_result",
          "data": {
            "text/plain": [
              "{'а',\n",
              " 'в',\n",
              " 'г',\n",
              " 'д',\n",
              " 'е',\n",
              " 'з',\n",
              " 'и',\n",
              " 'й',\n",
              " 'к',\n",
              " 'л',\n",
              " 'м',\n",
              " 'н',\n",
              " 'о',\n",
              " 'п',\n",
              " 'р',\n",
              " 'с',\n",
              " 'т',\n",
              " 'у',\n",
              " 'ф',\n",
              " 'ч',\n",
              " 'щ',\n",
              " 'ы',\n",
              " 'ь',\n",
              " 'ю',\n",
              " 'я'}"
            ]
          },
          "metadata": {},
          "execution_count": 18
        }
      ]
    },
    {
      "cell_type": "markdown",
      "metadata": {
        "id": "UQxsVL3w_v8J"
      },
      "source": [
        "34. (1 балл) Какие общие буквы имеют слова \"превысокомногорассмотрительствующий\" и \"водогрязеторфопарафинолечение\"?"
      ]
    },
    {
      "cell_type": "code",
      "metadata": {
        "id": "unSFfV_a_v8J",
        "colab": {
          "base_uri": "https://localhost:8080/"
        },
        "outputId": "0f6160ab-4736-493f-9b32-d3a3312d5e15"
      },
      "source": [
        "letters1 = list(\"превысокомногорассмотрительствующий\")\n",
        "letters2 = list(\"водогрязеторфопарафинолечение\")\n",
        "common = []\n",
        "for i in range(len(letters1)):\n",
        "  if letters1[i] in letters2:\n",
        "    common.append(letters1[i])\n",
        "\n",
        "print(set(common))"
      ],
      "execution_count": 17,
      "outputs": [
        {
          "output_type": "stream",
          "name": "stdout",
          "text": [
            "{'е', 'а', 'п', 'л', 'г', 'н', 'т', 'р', 'о', 'и', 'в'}\n"
          ]
        }
      ]
    },
    {
      "cell_type": "markdown",
      "metadata": {
        "id": "GauGi3oF_v8J"
      },
      "source": [
        "35. (1 балл) Есть ли буквы в слове \"превысокомногорассмотрительствующий\", которых нет в слове \"водогрязеторфопарафинолечение\"? А наоборот?"
      ]
    },
    {
      "cell_type": "code",
      "metadata": {
        "id": "TfTtSHFY_v8J",
        "colab": {
          "base_uri": "https://localhost:8080/"
        },
        "outputId": "b64d2016-b900-4e49-8fa7-5eab67c575db"
      },
      "source": [
        "letters1 = list(\"превысокомногорассмотрительствующий\")\n",
        "letters2 = list(\"водогрязеторфопарафинолечение\")\n",
        "uncommon1 = []\n",
        "uncommon2 = []\n",
        "for i in range(len(letters1)):\n",
        "  if letters1[i] not in letters2:\n",
        "    uncommon1.append(letters1[i])\n",
        "\n",
        "for i in range(len(letters2)):\n",
        "  if letters2[i] not in letters1:\n",
        "    uncommon2.append(letters2[i])\n",
        "\n",
        "print(set(uncommon1))\n",
        "print(set(uncommon2))"
      ],
      "execution_count": 16,
      "outputs": [
        {
          "output_type": "stream",
          "name": "stdout",
          "text": [
            "{'ь', 'у', 'ы', 'м', 'ю', 'щ', 'с', 'й', 'к'}\n",
            "{'з', 'д', 'ч', 'ф', 'я'}\n"
          ]
        }
      ]
    },
    {
      "cell_type": "markdown",
      "metadata": {
        "id": "E2sczfkn_v8J"
      },
      "source": [
        "### Часть 6. Словари и полезные вещи (10 баллов)"
      ]
    },
    {
      "cell_type": "markdown",
      "metadata": {
        "id": "VxZ4E8JhEHxD"
      },
      "source": [
        "Дан текст. Текст приведен к начальной форме уже за вас (мы это научимся делать на следующем занятии).\n",
        "```\n",
        "1. DJ Khaled замутить трек, в который читать только Drake. \n",
        "2. Drake организовывать на этот песня очень крутой клип, в который вместо он сниматься только джастин бибер.\n",
        "\n",
        "видимо, награда за весь это быть получать леонардо дикаприо 😅\n",
        "\n",
        "в клип джастин, кстати, выглядеть очень бодрый и наконец выздоравливать от болезнь и депрессия.\n",
        "отдельный прикол в то, что он там «читать» строчка про свой бывший девушка селен гомес, про себя сам и про то, насколько дрейк - крутой они все и взрывать индустрия 😂🤟\n",
        "```"
      ]
    },
    {
      "cell_type": "markdown",
      "metadata": {
        "id": "hGBIV3hS_v8K"
      },
      "source": [
        "36. (1 балл) Запишите его в переменную. Обратите внимание, что текст многострочный -- переносы строки нужно сохранить!"
      ]
    },
    {
      "cell_type": "code",
      "metadata": {
        "id": "BLB2YgyY_v8K",
        "colab": {
          "base_uri": "https://localhost:8080/"
        },
        "outputId": "798accb4-d80c-4123-8056-eb0493ec3c2d"
      },
      "source": [
        "x = '''1. DJ Khaled замутить трек, в который читать только Drake. \n",
        "2. Drake организовывать на этот песня очень крутой клип, в который вместо он сниматься только джастин бибер.\n",
        "\n",
        "видимо, награда за весь это быть получать леонардо дикаприо 😅\n",
        "\n",
        "в клип джастин, кстати, выглядеть очень бодрый и наконец выздоравливать от болезнь и депрессия.\n",
        "отдельный прикол в то, что он там «читать» строчка про свой бывший девушка селен гомес, про себя сам и про то, насколько дрейк - крутой они все и взрывать индустрия 😂🤟'''\n",
        "\n",
        "print(x)"
      ],
      "execution_count": null,
      "outputs": [
        {
          "output_type": "stream",
          "name": "stdout",
          "text": [
            "1. DJ Khaled замутить трек, в который читать только Drake. \n",
            "2. Drake организовывать на этот песня очень крутой клип, в который вместо он сниматься только джастин бибер.\n",
            "\n",
            "видимо, награда за весь это быть получать леонардо дикаприо 😅\n",
            "\n",
            "в клип джастин, кстати, выглядеть очень бодрый и наконец выздоравливать от болезнь и депрессия.\n",
            "отдельный прикол в то, что он там «читать» строчка про свой бывший девушка селен гомес, про себя сам и про то, насколько дрейк - крутой они все и взрывать индустрия 😂🤟\n"
          ]
        }
      ]
    },
    {
      "cell_type": "markdown",
      "metadata": {
        "id": "Z2529Ids_v8K"
      },
      "source": [
        "37. (1 балл) Разделите текст на предложения (используя `\"\\n\"`) "
      ]
    },
    {
      "cell_type": "code",
      "metadata": {
        "id": "DWR1Ckig_v8K",
        "colab": {
          "base_uri": "https://localhost:8080/"
        },
        "outputId": "bb3d9fc8-edd9-40b8-9025-3454a38171eb"
      },
      "source": [
        "x = '''1. DJ Khaled замутить трек, в который читать только Drake. \n",
        "2. Drake организовывать на этот песня очень крутой клип, в который вместо он сниматься только джастин бибер.\n",
        "\n",
        "видимо, награда за весь это быть получать леонардо дикаприо 😅\n",
        "\n",
        "в клип джастин, кстати, выглядеть очень бодрый и наконец выздоравливать от болезнь и депрессия.\n",
        "отдельный прикол в то, что он там «читать» строчка про свой бывший девушка селен гомес, про себя сам и про то, насколько дрейк - крутой они все и взрывать индустрия 😂🤟'''\n",
        " \n",
        "splitted_text = x.split('\\n')\n",
        "splitted_text"
      ],
      "execution_count": 10,
      "outputs": [
        {
          "output_type": "execute_result",
          "data": {
            "text/plain": [
              "['1. DJ Khaled замутить трек, в который читать только Drake. ',\n",
              " '2. Drake организовывать на этот песня очень крутой клип, в который вместо он сниматься только джастин бибер.',\n",
              " '',\n",
              " 'видимо, награда за весь это быть получать леонардо дикаприо 😅',\n",
              " '',\n",
              " 'в клип джастин, кстати, выглядеть очень бодрый и наконец выздоравливать от болезнь и депрессия.',\n",
              " 'отдельный прикол в то, что он там «читать» строчка про свой бывший девушка селен гомес, про себя сам и про то, насколько дрейк - крутой они все и взрывать индустрия 😂🤟']"
            ]
          },
          "metadata": {},
          "execution_count": 10
        }
      ]
    },
    {
      "cell_type": "markdown",
      "metadata": {
        "id": "pa1_7zAS_v8K"
      },
      "source": [
        "38. (2 балла) Разделите предложения на слова, удалите пунктуацию до и после слов, используя `.strip()`. И кавычки тоже удалите."
      ]
    },
    {
      "cell_type": "code",
      "metadata": {
        "id": "Fj0ZPwO1_v8K",
        "colab": {
          "base_uri": "https://localhost:8080/"
        },
        "outputId": "21e217e4-ef7f-4185-f6e2-2f6cb886c74d"
      },
      "source": [
        "from string import punctuation\n",
        "punct = \",.«»\"\n",
        "\n",
        "s = ['''1. DJ Khaled замутить трек, в который читать только Drake. \n",
        "2. Drake организовывать на этот песня очень крутой клип, в который вместо он сниматься только джастин бибер.\n",
        "\n",
        "видимо, награда за весь это быть получать леонардо дикаприо 😅\n",
        "\n",
        "в клип джастин, кстати, выглядеть очень бодрый и наконец выздоравливать от болезнь и депрессия.\n",
        "отдельный прикол в то, что он там «читать» строчка про свой бывший девушка селен гомес, про себя сам и про то, насколько дрейк - крутой они все и взрывать индустрия 😂🤟''']\n",
        "\n",
        "for sentence in splitted_text:\n",
        "    s.append([i.strip(punct) for i in sentence.split()])\n",
        "s"
      ],
      "execution_count": 15,
      "outputs": [
        {
          "output_type": "execute_result",
          "data": {
            "text/plain": [
              "['1. DJ Khaled замутить трек, в который читать только Drake. \\n2. Drake организовывать на этот песня очень крутой клип, в который вместо он сниматься только джастин бибер.\\n\\nвидимо, награда за весь это быть получать леонардо дикаприо 😅\\n\\nв клип джастин, кстати, выглядеть очень бодрый и наконец выздоравливать от болезнь и депрессия.\\nотдельный прикол в то, что он там «читать» строчка про свой бывший девушка селен гомес, про себя сам и про то, насколько дрейк - крутой они все и взрывать индустрия 😂🤟',\n",
              " ['1',\n",
              "  'DJ',\n",
              "  'Khaled',\n",
              "  'замутить',\n",
              "  'трек',\n",
              "  'в',\n",
              "  'который',\n",
              "  'читать',\n",
              "  'только',\n",
              "  'Drake'],\n",
              " ['2',\n",
              "  'Drake',\n",
              "  'организовывать',\n",
              "  'на',\n",
              "  'этот',\n",
              "  'песня',\n",
              "  'очень',\n",
              "  'крутой',\n",
              "  'клип',\n",
              "  'в',\n",
              "  'который',\n",
              "  'вместо',\n",
              "  'он',\n",
              "  'сниматься',\n",
              "  'только',\n",
              "  'джастин',\n",
              "  'бибер'],\n",
              " [],\n",
              " ['видимо',\n",
              "  'награда',\n",
              "  'за',\n",
              "  'весь',\n",
              "  'это',\n",
              "  'быть',\n",
              "  'получать',\n",
              "  'леонардо',\n",
              "  'дикаприо',\n",
              "  '😅'],\n",
              " [],\n",
              " ['в',\n",
              "  'клип',\n",
              "  'джастин',\n",
              "  'кстати',\n",
              "  'выглядеть',\n",
              "  'очень',\n",
              "  'бодрый',\n",
              "  'и',\n",
              "  'наконец',\n",
              "  'выздоравливать',\n",
              "  'от',\n",
              "  'болезнь',\n",
              "  'и',\n",
              "  'депрессия'],\n",
              " ['отдельный',\n",
              "  'прикол',\n",
              "  'в',\n",
              "  'то',\n",
              "  'что',\n",
              "  'он',\n",
              "  'там',\n",
              "  'читать',\n",
              "  'строчка',\n",
              "  'про',\n",
              "  'свой',\n",
              "  'бывший',\n",
              "  'девушка',\n",
              "  'селен',\n",
              "  'гомес',\n",
              "  'про',\n",
              "  'себя',\n",
              "  'сам',\n",
              "  'и',\n",
              "  'про',\n",
              "  'то',\n",
              "  'насколько',\n",
              "  'дрейк',\n",
              "  '-',\n",
              "  'крутой',\n",
              "  'они',\n",
              "  'все',\n",
              "  'и',\n",
              "  'взрывать',\n",
              "  'индустрия',\n",
              "  '😂🤟']]"
            ]
          },
          "metadata": {},
          "execution_count": 15
        }
      ]
    },
    {
      "cell_type": "markdown",
      "metadata": {
        "id": "H6JJW1GH_v8K"
      },
      "source": [
        "39. (2 балла) Создайте словарь, в котором ключ -- слово из текста, а значение -- количество раз, сколько оно встречается во всем тексте.\n",
        "\n",
        "например:\n",
        "\n",
        "`dct = {\"go\": 1, \"went\": 2, \"gone\": 3}`\n",
        "\n",
        "Напечатайте словарь"
      ]
    },
    {
      "cell_type": "code",
      "metadata": {
        "id": "cy5_T8yM_v8L",
        "colab": {
          "base_uri": "https://localhost:8080/",
          "height": 229
        },
        "outputId": "bb29a005-52ec-4d43-f84a-f6fbab180ae1"
      },
      "source": [
        "dct = {'''1. DJ Khaled замутить трек, в который читать только Drake. \n",
        "2. Drake организовывать на этот песня очень крутой клип, в который вместо он сниматься только джастин бибер.\n",
        "\n",
        "видимо, награда за весь это быть получать леонардо дикаприо 😅\n",
        "\n",
        "в клип джастин, кстати, выглядеть очень бодрый и наконец выздоравливать от болезнь и депрессия.\n",
        "отдельный прикол в то, что он там «читать» строчка про свой бывший девушка селен гомес, про себя сам и про то, насколько дрейк - крутой они все и взрывать индустрия 😂🤟'''}\n",
        "\n",
        "for word_list in sentences_with_words:\n",
        "  for word in word_list:\n",
        "    if word not in dct:\n",
        "      dct[word] = 1\n",
        "    else: \n",
        "      dct[word]+=1\n",
        "\n",
        "print(dct)"
      ],
      "execution_count": 27,
      "outputs": [
        {
          "output_type": "error",
          "ename": "TypeError",
          "evalue": "ignored",
          "traceback": [
            "\u001b[0;31m---------------------------------------------------------------------------\u001b[0m",
            "\u001b[0;31mTypeError\u001b[0m                                 Traceback (most recent call last)",
            "\u001b[0;32m<ipython-input-27-e7031a0943c6>\u001b[0m in \u001b[0;36m<module>\u001b[0;34m()\u001b[0m\n\u001b[1;32m     10\u001b[0m   \u001b[0;32mfor\u001b[0m \u001b[0mword\u001b[0m \u001b[0;32min\u001b[0m \u001b[0mword_list\u001b[0m\u001b[0;34m:\u001b[0m\u001b[0;34m\u001b[0m\u001b[0;34m\u001b[0m\u001b[0m\n\u001b[1;32m     11\u001b[0m     \u001b[0;32mif\u001b[0m \u001b[0mword\u001b[0m \u001b[0;32mnot\u001b[0m \u001b[0;32min\u001b[0m \u001b[0mdct\u001b[0m\u001b[0;34m:\u001b[0m\u001b[0;34m\u001b[0m\u001b[0;34m\u001b[0m\u001b[0m\n\u001b[0;32m---> 12\u001b[0;31m       \u001b[0mdct\u001b[0m\u001b[0;34m[\u001b[0m\u001b[0mword\u001b[0m\u001b[0;34m]\u001b[0m \u001b[0;34m=\u001b[0m \u001b[0;36m1\u001b[0m\u001b[0;34m\u001b[0m\u001b[0;34m\u001b[0m\u001b[0m\n\u001b[0m\u001b[1;32m     13\u001b[0m     \u001b[0;32melse\u001b[0m\u001b[0;34m:\u001b[0m\u001b[0;34m\u001b[0m\u001b[0;34m\u001b[0m\u001b[0m\n\u001b[1;32m     14\u001b[0m       \u001b[0mdct\u001b[0m\u001b[0;34m[\u001b[0m\u001b[0mword\u001b[0m\u001b[0;34m]\u001b[0m\u001b[0;34m+=\u001b[0m\u001b[0;36m1\u001b[0m\u001b[0;34m\u001b[0m\u001b[0;34m\u001b[0m\u001b[0m\n",
            "\u001b[0;31mTypeError\u001b[0m: 'set' object does not support item assignment"
          ]
        }
      ]
    },
    {
      "cell_type": "markdown",
      "metadata": {
        "id": "lCKeMfMY_v8L"
      },
      "source": [
        "40. (2 балла) Напечатайте слова, встречающиеся более 1 раза в формате `\"слово кол-во раз\"` через пробел.\n",
        "\n",
        "    * Если сможете напечатать в порядке убывания (от большего к меньшему) + 2 балла"
      ]
    },
    {
      "cell_type": "code",
      "metadata": {
        "id": "bd5BAdeu_v8L",
        "colab": {
          "base_uri": "https://localhost:8080/",
          "height": 195
        },
        "outputId": "82598e8a-3f9d-43f0-f958-805f6f85e5a6"
      },
      "source": [
        "for key in dct:\n",
        "  if dct[key] > 1:\n",
        "    print(key, dct[key])"
      ],
      "execution_count": 6,
      "outputs": [
        {
          "output_type": "error",
          "ename": "NameError",
          "evalue": "ignored",
          "traceback": [
            "\u001b[0;31m---------------------------------------------------------------------------\u001b[0m",
            "\u001b[0;31mNameError\u001b[0m                                 Traceback (most recent call last)",
            "\u001b[0;32m<ipython-input-6-6a37a1584478>\u001b[0m in \u001b[0;36m<module>\u001b[0;34m()\u001b[0m\n\u001b[0;32m----> 1\u001b[0;31m \u001b[0;32mfor\u001b[0m \u001b[0mkey\u001b[0m \u001b[0;32min\u001b[0m \u001b[0mdct\u001b[0m\u001b[0;34m:\u001b[0m\u001b[0;34m\u001b[0m\u001b[0;34m\u001b[0m\u001b[0m\n\u001b[0m\u001b[1;32m      2\u001b[0m   \u001b[0;32mif\u001b[0m \u001b[0mdct\u001b[0m\u001b[0;34m[\u001b[0m\u001b[0mkey\u001b[0m\u001b[0;34m]\u001b[0m \u001b[0;34m>\u001b[0m \u001b[0;36m1\u001b[0m\u001b[0;34m:\u001b[0m\u001b[0;34m\u001b[0m\u001b[0;34m\u001b[0m\u001b[0m\n\u001b[1;32m      3\u001b[0m     \u001b[0mprint\u001b[0m\u001b[0;34m(\u001b[0m\u001b[0mkey\u001b[0m\u001b[0;34m,\u001b[0m \u001b[0mdct\u001b[0m\u001b[0;34m[\u001b[0m\u001b[0mkey\u001b[0m\u001b[0;34m]\u001b[0m\u001b[0;34m)\u001b[0m\u001b[0;34m\u001b[0m\u001b[0;34m\u001b[0m\u001b[0m\n",
            "\u001b[0;31mNameError\u001b[0m: name 'dct' is not defined"
          ]
        }
      ]
    },
    {
      "cell_type": "markdown",
      "metadata": {
        "id": "6mEkbtQk_v8M"
      },
      "source": [
        "41. (2 балла) Пользователь вводит с клавиатуры какое-нибудь слово.\n",
        "Проверяем, есть ли слово в массиве: если нет, добавляем его туда и печатаем \"Слово X добавлено\", а если есть, то печатаем ответ \"Слово X в тексте N раз\"."
      ]
    },
    {
      "cell_type": "code",
      "metadata": {
        "id": "JvQMP8wR_v8M",
        "colab": {
          "base_uri": "https://localhost:8080/"
        },
        "outputId": "170b9981-9ee2-4256-f848-c2b9329ff6b3"
      },
      "source": [
        "word = input()\n",
        "lst = ['cat', 'dog', 'cat', 'cow']\n",
        "if word in lst:\n",
        "  print(f'Слово {word} в тексте {lst.count(word)} раз')\n",
        "else:\n",
        "  lst.append(word)\n",
        "  print(f'Слово {word} добавлено')\n",
        "print(lst)"
      ],
      "execution_count": 5,
      "outputs": [
        {
          "output_type": "stream",
          "name": "stdout",
          "text": [
            "cat\n",
            "Слово cat в тексте 2 раз\n",
            "['cat', 'dog', 'cat', 'cow']\n"
          ]
        }
      ]
    },
    {
      "cell_type": "markdown",
      "metadata": {
        "id": "YTZ_hhhBFasx"
      },
      "source": [
        "## Задания со звездочкой (9 или 10 можно получить, решив эти задания)"
      ]
    },
    {
      "cell_type": "markdown",
      "metadata": {
        "id": "159FPHDYFpk1"
      },
      "source": [
        "42. По заданному n вывести левосторонний треугольник из следующих цифр:\n"
      ]
    },
    {
      "cell_type": "code",
      "metadata": {
        "colab": {
          "base_uri": "https://localhost:8080/"
        },
        "id": "KqJoZEUIFaEd",
        "outputId": "4f2904a1-e44d-48fb-e64c-c18382d0c1e1"
      },
      "source": [
        "n = 10\n",
        "\n",
        "previous = []\n",
        "\n",
        "for i in range(n):\n",
        "  previous.append(i)\n",
        "  print(*previous)"
      ],
      "execution_count": 2,
      "outputs": [
        {
          "output_type": "stream",
          "name": "stdout",
          "text": [
            "0\n",
            "0 1\n",
            "0 1 2\n",
            "0 1 2 3\n",
            "0 1 2 3 4\n",
            "0 1 2 3 4 5\n",
            "0 1 2 3 4 5 6\n",
            "0 1 2 3 4 5 6 7\n",
            "0 1 2 3 4 5 6 7 8\n",
            "0 1 2 3 4 5 6 7 8 9\n"
          ]
        }
      ]
    },
    {
      "cell_type": "markdown",
      "metadata": {
        "id": "-9rUNF4-Fofe"
      },
      "source": [
        "43. По заданному n вывести перевернутый правосторонний треугольник из следующих цифр"
      ]
    },
    {
      "cell_type": "code",
      "metadata": {
        "colab": {
          "base_uri": "https://localhost:8080/"
        },
        "id": "Sa7ZDOa-Fm7O",
        "outputId": "3c26fa87-8143-4653-c92d-5109f6a75279"
      },
      "source": [
        "n = 10\n",
        "\n",
        "previous = list(range(n))\n",
        "\n",
        "for i in range(n):\n",
        "  print(\" \" *2*i + \" \".join(map(str, previous)))\n",
        "  previous.pop()"
      ],
      "execution_count": 3,
      "outputs": [
        {
          "output_type": "stream",
          "name": "stdout",
          "text": [
            "0 1 2 3 4 5 6 7 8 9\n",
            "  0 1 2 3 4 5 6 7 8\n",
            "    0 1 2 3 4 5 6 7\n",
            "      0 1 2 3 4 5 6\n",
            "        0 1 2 3 4 5\n",
            "          0 1 2 3 4\n",
            "            0 1 2 3\n",
            "              0 1 2\n",
            "                0 1\n",
            "                  0\n"
          ]
        }
      ]
    },
    {
      "cell_type": "markdown",
      "metadata": {
        "id": "y1BSSdWe_v8N"
      },
      "source": [
        "#### Напишите ниже вашу обратную связь по домашнему заданию в комментарии. \n",
        "\n",
        "#### Какие задания показались вам самыми сложными / простыми? Что понравилось, а что нет?"
      ]
    },
    {
      "cell_type": "code",
      "metadata": {
        "id": "xciAjxQG_v8N",
        "colab": {
          "base_uri": "https://localhost:8080/",
          "height": 162
        },
        "outputId": "29eddee1-32fb-4963-dc6a-5fd532f34b75"
      },
      "source": [
        "Все задания непропорционально сложные тому, что мы обсуждаем на паре. Получается, что мы не отрабатываем полученный материал (мы его даже переварить не успеваем), а сразу перескакиваем на сложные задачи, которые, естественно, приходится гуглить\\обсуждать, чтобы хоть как-то понять, что происходит. Кроме того, многие формулировки, встречающиесяв дз, были подменены другими во время пары (например, на паре ни разу не прозвучало понятие \"кортеж\", поэтому, увидев его в дз, все напряглись. Потом, опять же, загуглив, разобрались)."
      ],
      "execution_count": 29,
      "outputs": [
        {
          "output_type": "error",
          "ename": "SyntaxError",
          "evalue": "ignored",
          "traceback": [
            "\u001b[0;36m  File \u001b[0;32m\"<ipython-input-29-669df8993588>\"\u001b[0;36m, line \u001b[0;32m1\u001b[0m\n\u001b[0;31m    Все задания непропорционально сложные тому, что мы обсуждаем на паре. Получается, что мы не отрабатываем полученный материал (мы его даже переварить не успеваем), а сразу перескакиваем на сложные задачи, которые, естественно, приходится гуглить\\обсуждать, чтобы хоть как-то понять, что происходит. Кроме того, многие формулировки, встречающиесяв дз, были подменены другими во время пары (например, на паре ни разу не прозвучало понятие \"кортеж\", поэтому, увидев его в дз, все напряглись. Потом, опять же, загуглив, разобрались).\u001b[0m\n\u001b[0m              ^\u001b[0m\n\u001b[0;31mSyntaxError\u001b[0m\u001b[0;31m:\u001b[0m invalid syntax\n"
          ]
        }
      ]
    }
  ]
}